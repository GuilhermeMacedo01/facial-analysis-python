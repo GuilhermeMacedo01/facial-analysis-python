{
 "cells": [
  {
   "cell_type": "code",
   "execution_count": null,
   "metadata": {},
   "outputs": [],
   "source": [
    "!pip install opencv-python==4.6.0.66\n",
    "!pip install mediapipe==0.8.11\n",
    "!pip install numpy==1.22.3"
   ]
  }
 ],
 "metadata": {
  "language_info": {
   "name": "python"
  }
 },
 "nbformat": 4,
 "nbformat_minor": 2
}
